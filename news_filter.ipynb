{
 "cells": [
  {
   "cell_type": "code",
   "execution_count": 1,
   "metadata": {
    "collapsed": true
   },
   "outputs": [
    {
     "name": "stdout",
     "output_type": "stream",
     "text": [
      "news/world-asia-39623882\nNorth Korea will continue to test missiles, a senior official has told the BBC in Pyongyang, despite international condemnation and growing military tensions with the US.\n\"We'll be conducting more missile tests on a weekly, monthly and yearly basis,\" Vice-Foreign Minister Han Song-ryol told the BBC's John Sudworth.\nHe said that an \"all-out war\" would result if the US took military action.\nEarlier, US Vice-President Mike Pence warned North Korea not to test the US.\nHe said his country's \"era of strategic patience\" with North Korea was over.\nMr Pence arrived in Seoul on Sunday hours after North Korea carried out a failed missile launch.\nTensions have been escalating on the peninsula, with heated rhetoric from both North Korea and the US.\nMr Han told the BBC: \"If the US is planning a military attack against us, we will react with a nuclear pre-emptive strike by our own style and method.\"\nHow did we get here?\nNorth Korea has accelerated its nuclear and missile tests in recent years, despite international condemnation and UN sanctions.\nIts aim is to be able to put a nuclear warhead on an intercontinental ballistic missile that can reach targets around the world, including the US.\nUS President Donald Trump has said that will not happen, and stepped up pressure on the isolated North. \nHe has sent a navy strike group towards the Korean Peninsula, and the US and South Korea are moving ahead with the early deployment of a controversial missile defence system.\nDespite the tension, North Korea may carry out a sixth nuclear test soon, observers say. It test-fired a missile on Sunday that exploded within seconds of launch, following a grand military parade on Saturday.\nWhat has the US told North Korea?\nSpeaking alongside South Korea's acting President Hwang Kyo-ahn on Monday, Mr Pence said North Korea should not test US President Donald Trump.\n\"Just in the past two weeks, the world witnessed the strength and resolve of our new president in actions taken in Syria and Afghanistan,\" Mr Pence said.\n\"North Korea would do well not to test his resolve or the strength of the armed forces of the United States in this region.\"\nHe reiterated US support for South Korea, telling his host: \"We are with you 100%.\"\nLast month, US Secretary of State Rex Tillerson warned that pre-emptive military action was \"on the table\".\nBut the US is also working with China, North Korea's main ally, to pressure the regime to stop nuclear and missile tests.\nMr Pence told journalists that the White House hoped China would use its \"extraordinary levers\" to pressure North Korea, the Associated Press reports.\nThe BBC's Stephen Evans in Seoul says US policy now seems to be to persuade China to contain North Korea while keeping the economic and military pressure on.\nWhat does North Korea say?\nVice-Foreign Minister Han Song-ryol told the BBC that North Korea believed its nuclear weapons \"protect\" it from the threat of US military action.\n\"If the US is reckless enough to use military means it would mean from that very day, an all-out war,\" he said.\nThe North casts the US as the aggressor.\nAt a news conference at the UN on Monday, North Korea's permanent representative Ambassador Kim In-ryong, condemned the US missile strikes in Syria, which targeted an air base after a suspected chemical attack by the government.\nHe said the US was \"disturbing global peace and stability and insisting on the gangster-like logic that its invasion of a sovereign state is decisive and just and proportionate and contributes to defending the international order\".\nHow advanced is North Korea's nuclear programme?\nAnd what about other world powers?\nChina has reiterated its call for North Korea to stop all tests, and has also called for a peaceful solution.\nChinese Foreign Ministry spokesman Lu Kang told reporters in Beijing on Monday that the Korean peninsula was \"highly sensitive, complicated and high risk\" and that all sides should \"avoid taking provocative actions that pour oil on the fire\".\nOn Sunday, Lt Gen HR McMaster, the US top security adviser, said his country was working on a \"range of options\" with China, the first confirmation the two countries were co-operating to find a solution to the North Korean issue. \nRussia's Foreign Minister Sergei Lavrov said Moscow would not tolerate \"missile adventures by Pyongyang\" but a unilateral use of power by the US would be \"a very risky course\".\nJapanese Prime Minister Shinzo Abe on Monday told a parliamentary session that diplomatic efforts were \"important to maintain peace\", but \"dialogue for the sake of having dialogue is meaningless\".\nHe added that Japan needed to apply pressure on Pyongyang to \"seriously respond to a dialogue\" with the international community.\n"
     ]
    }
   ],
   "source": [
    "import news_content_snatch as snatcher\n",
    "\n",
    "\n",
    "snatcher.get_full_content('/news/world-asia-39623882')"
   ]
  },
  {
   "cell_type": "code",
   "execution_count": null,
   "metadata": {},
   "outputs": [],
   "source": [
    ""
   ]
  }
 ],
 "metadata": {
  "kernelspec": {
   "display_name": "Python 2",
   "language": "python",
   "name": "python2"
  },
  "language_info": {
   "codemirror_mode": {
    "name": "ipython",
    "version": 2.0
   },
   "file_extension": ".py",
   "mimetype": "text/x-python",
   "name": "python",
   "nbconvert_exporter": "python",
   "pygments_lexer": "ipython2",
   "version": "2.7.6"
  }
 },
 "nbformat": 4,
 "nbformat_minor": 0
}