{
 "cells": [
  {
   "cell_type": "code",
   "execution_count": 2,
   "metadata": {
    "collapsed": true
   },
   "outputs": [],
   "source": [
    ""
   ]
  },
  {
   "cell_type": "code",
   "execution_count": 54,
   "metadata": {},
   "outputs": [],
   "source": [
    "from nltk.tokenize import RegexpTokenizer, sent_tokenize\n",
    "import os\n",
    "\n",
    "news_path = 'news/'\n",
    "all_news = os.listdir(news_path)\n",
    "tokenizer = RegexpTokenizer(r'\\w+')\n",
    "\n",
    "news_articles = []\n",
    "for article in all_news:\n",
    "    with open(os.path.join(news_path, article)) as reader:\n",
    "        news_articles.append(reader.read().decode('utf8'))"
   ]
  },
  {
   "cell_type": "code",
   "execution_count": 67,
   "metadata": {},
   "outputs": [],
   "source": [
    "articles_sentences = [sent_tokenize(article) for article in news_articles]\n",
    "sentences = []\n",
    "for article in articles_sentences:\n",
    "    sentences += [tokenizer.tokenize(sentence.lower()) for sentence in article]"
   ]
  },
  {
   "cell_type": "code",
   "execution_count": 72,
   "metadata": {},
   "outputs": [],
   "source": [
    "from gensim.models import word2vec\n",
    "\n",
    "model = word2vec.Word2Vec(\n",
    "    sentences,\n",
    "    workers=8,\n",
    "    size=300,\n",
    "    min_count=15,\n",
    "    window=10,\n",
    "    sample=10e-3\n",
    ")"
   ]
  },
  {
   "cell_type": "code",
   "execution_count": 73,
   "metadata": {},
   "outputs": [
    {
     "name": "stdout",
     "output_type": "stream",
     "text": [
      "\"word 'airbnb' not in vocabulary\"\n"
     ]
    }
   ],
   "source": [
    "import pprint\n",
    "\n",
    "try:\n",
    "    pprint.pprint(model.most_similar('airbnb'))\n",
    "except KeyError as ke:\n",
    "    print ke"
   ]
  },
  {
   "cell_type": "code",
   "execution_count": null,
   "metadata": {},
   "outputs": [],
   "source": [
    ""
   ]
  }
 ],
 "metadata": {
  "kernelspec": {
   "display_name": "Python 2",
   "language": "python",
   "name": "python2"
  },
  "language_info": {
   "codemirror_mode": {
    "name": "ipython",
    "version": 2.0
   },
   "file_extension": ".py",
   "mimetype": "text/x-python",
   "name": "python",
   "nbconvert_exporter": "python",
   "pygments_lexer": "ipython2",
   "version": "2.7.6"
  }
 },
 "nbformat": 4,
 "nbformat_minor": 0
}