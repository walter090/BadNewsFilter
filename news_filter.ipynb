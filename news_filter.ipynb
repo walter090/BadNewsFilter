{
 "cells": [
  {
   "cell_type": "code",
   "execution_count": 4,
   "metadata": {
    "collapsed": true
   },
   "outputs": [],
   "source": [
    "import news_content_snatch as snatcher\n",
    "\n",
    "snatcher.scrape(mode='full')"
   ]
  },
  {
   "cell_type": "code",
   "execution_count": 19,
   "metadata": {},
   "outputs": [
    {
     "name": "stdout",
     "output_type": "stream",
     "text": [
      "showing info https://raw.githubusercontent.com/nltk/nltk_data/gh-pages/index.xml\n"
     ]
    }
   ],
   "source": [
    "from nltk.tokenize import RegexpTokenizer, sent_tokenize\n",
    "import nltk.data\n",
    "import os\n",
    "nltk.download()\n",
    "\n",
    "news_path = 'news/'\n",
    "all_news = os.listdir(news_path)\n",
    "tokenizer = RegexpTokenizer(r'\\w+')\n",
    "\n",
    "news_articles = []\n",
    "for article in all_news:\n",
    "    with open(os.path.join(news_path, article)) as file:\n",
    "        news_articles.append(file.read())"
   ]
  },
  {
   "cell_type": "code",
   "execution_count": 18,
   "metadata": {},
   "outputs": [
    {
     "name": "stdout",
     "output_type": "stream",
     "text": [
      "1\n"
     ]
    }
   ],
   "source": [
    "print sent_tokenize(news_articles[0])"
   ]
  },
  {
   "cell_type": "code",
   "execution_count": null,
   "metadata": {},
   "outputs": [],
   "source": [
    ""
   ]
  }
 ],
 "metadata": {
  "kernelspec": {
   "display_name": "Python 2",
   "language": "python",
   "name": "python2"
  },
  "language_info": {
   "codemirror_mode": {
    "name": "ipython",
    "version": 2.0
   },
   "file_extension": ".py",
   "mimetype": "text/x-python",
   "name": "python",
   "nbconvert_exporter": "python",
   "pygments_lexer": "ipython2",
   "version": "2.7.6"
  }
 },
 "nbformat": 4,
 "nbformat_minor": 0
}