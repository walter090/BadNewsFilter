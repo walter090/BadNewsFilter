{
 "cells": [
  {
   "cell_type": "code",
   "execution_count": 2,
   "metadata": {
    "collapsed": true
   },
   "outputs": [
    {
     "name": "stdout",
     "output_type": "stream",
     "text": [
      "news entry added\n"
     ]
    },
    {
     "name": "stdout",
     "output_type": "stream",
     "text": [
      "news already in file\n"
     ]
    },
    {
     "name": "stdout",
     "output_type": "stream",
     "text": [
      "news already in file\n"
     ]
    },
    {
     "name": "stdout",
     "output_type": "stream",
     "text": [
      "news entry added\n"
     ]
    },
    {
     "name": "stdout",
     "output_type": "stream",
     "text": [
      "news entry added\n"
     ]
    },
    {
     "name": "stdout",
     "output_type": "stream",
     "text": [
      "news entry added\n"
     ]
    },
    {
     "name": "stdout",
     "output_type": "stream",
     "text": [
      "news already in file\n"
     ]
    },
    {
     "name": "stdout",
     "output_type": "stream",
     "text": [
      "news entry added\n"
     ]
    },
    {
     "name": "stdout",
     "output_type": "stream",
     "text": [
      "news entry added\n"
     ]
    },
    {
     "name": "stdout",
     "output_type": "stream",
     "text": [
      "news entry added\n"
     ]
    },
    {
     "name": "stdout",
     "output_type": "stream",
     "text": [
      "news entry added\n"
     ]
    },
    {
     "name": "stdout",
     "output_type": "stream",
     "text": [
      "news entry added\n"
     ]
    },
    {
     "name": "stdout",
     "output_type": "stream",
     "text": [
      "news entry added\n"
     ]
    },
    {
     "name": "stdout",
     "output_type": "stream",
     "text": [
      "news entry added\n"
     ]
    },
    {
     "name": "stdout",
     "output_type": "stream",
     "text": [
      "news entry added\n"
     ]
    },
    {
     "name": "stdout",
     "output_type": "stream",
     "text": [
      "news entry added\n"
     ]
    },
    {
     "name": "stdout",
     "output_type": "stream",
     "text": [
      "news entry added\n"
     ]
    },
    {
     "name": "stdout",
     "output_type": "stream",
     "text": [
      "news already in file\n"
     ]
    },
    {
     "name": "stdout",
     "output_type": "stream",
     "text": [
      "news already in file\n"
     ]
    },
    {
     "name": "stdout",
     "output_type": "stream",
     "text": [
      "news already in file\nnews already in file\n"
     ]
    },
    {
     "name": "stdout",
     "output_type": "stream",
     "text": [
      "news already in file\n"
     ]
    },
    {
     "name": "stdout",
     "output_type": "stream",
     "text": [
      "news already in file\n"
     ]
    },
    {
     "name": "stdout",
     "output_type": "stream",
     "text": [
      "news entry added\nnews already in file\n"
     ]
    },
    {
     "name": "stdout",
     "output_type": "stream",
     "text": [
      "news entry added\n"
     ]
    },
    {
     "name": "stdout",
     "output_type": "stream",
     "text": [
      "news already in file\nnews already in file\n"
     ]
    },
    {
     "name": "stdout",
     "output_type": "stream",
     "text": [
      "news entry added\n"
     ]
    },
    {
     "name": "stdout",
     "output_type": "stream",
     "text": [
      "news entry added\n"
     ]
    },
    {
     "name": "stdout",
     "output_type": "stream",
     "text": [
      "news entry added\n"
     ]
    },
    {
     "name": "stdout",
     "output_type": "stream",
     "text": [
      "news entry added\n"
     ]
    },
    {
     "name": "stdout",
     "output_type": "stream",
     "text": [
      "news entry added\n"
     ]
    },
    {
     "name": "stdout",
     "output_type": "stream",
     "text": [
      "news entry added\n"
     ]
    },
    {
     "name": "stdout",
     "output_type": "stream",
     "text": [
      "news entry added\n"
     ]
    },
    {
     "name": "stdout",
     "output_type": "stream",
     "text": [
      "news entry added\n"
     ]
    },
    {
     "name": "stdout",
     "output_type": "stream",
     "text": [
      "news already in file\nnews already in file\n"
     ]
    },
    {
     "name": "stdout",
     "output_type": "stream",
     "text": [
      "news already in file\n"
     ]
    },
    {
     "name": "stdout",
     "output_type": "stream",
     "text": [
      "news entry added\n"
     ]
    },
    {
     "name": "stdout",
     "output_type": "stream",
     "text": [
      "news entry added\n"
     ]
    },
    {
     "name": "stdout",
     "output_type": "stream",
     "text": [
      "news entry added\n"
     ]
    },
    {
     "name": "stdout",
     "output_type": "stream",
     "text": [
      "news entry added\n"
     ]
    },
    {
     "name": "stdout",
     "output_type": "stream",
     "text": [
      "news entry added\n"
     ]
    },
    {
     "name": "stdout",
     "output_type": "stream",
     "text": [
      "news entry added\n"
     ]
    },
    {
     "name": "stdout",
     "output_type": "stream",
     "text": [
      "news entry added\n"
     ]
    },
    {
     "name": "stdout",
     "output_type": "stream",
     "text": [
      "news entry added\n"
     ]
    },
    {
     "name": "stdout",
     "output_type": "stream",
     "text": [
      "news entry added\n"
     ]
    },
    {
     "name": "stdout",
     "output_type": "stream",
     "text": [
      "news entry added\n"
     ]
    },
    {
     "name": "stdout",
     "output_type": "stream",
     "text": [
      "news entry added\n"
     ]
    },
    {
     "name": "stdout",
     "output_type": "stream",
     "text": [
      "news entry added\n"
     ]
    },
    {
     "name": "stdout",
     "output_type": "stream",
     "text": [
      "news entry added\n"
     ]
    },
    {
     "name": "stdout",
     "output_type": "stream",
     "text": [
      "news entry added\n"
     ]
    },
    {
     "name": "stdout",
     "output_type": "stream",
     "text": [
      "news entry added\n"
     ]
    },
    {
     "name": "stdout",
     "output_type": "stream",
     "text": [
      "news entry added\n"
     ]
    },
    {
     "name": "stdout",
     "output_type": "stream",
     "text": [
      "news entry added\n"
     ]
    },
    {
     "name": "stdout",
     "output_type": "stream",
     "text": [
      "news entry added\n"
     ]
    },
    {
     "name": "stdout",
     "output_type": "stream",
     "text": [
      "news entry added\n"
     ]
    },
    {
     "name": "stdout",
     "output_type": "stream",
     "text": [
      "news already in file\n"
     ]
    },
    {
     "name": "stdout",
     "output_type": "stream",
     "text": [
      "news already in file\n"
     ]
    },
    {
     "name": "stdout",
     "output_type": "stream",
     "text": [
      "news already in file\n"
     ]
    },
    {
     "name": "stdout",
     "output_type": "stream",
     "text": [
      "news already in file\n"
     ]
    },
    {
     "name": "stdout",
     "output_type": "stream",
     "text": [
      "news already in file\n"
     ]
    },
    {
     "name": "stdout",
     "output_type": "stream",
     "text": [
      "news already in file\n"
     ]
    },
    {
     "name": "stdout",
     "output_type": "stream",
     "text": [
      "news already in file\n"
     ]
    },
    {
     "name": "stdout",
     "output_type": "stream",
     "text": [
      "news already in file\n"
     ]
    },
    {
     "name": "stdout",
     "output_type": "stream",
     "text": [
      "news already in file\n"
     ]
    },
    {
     "name": "stdout",
     "output_type": "stream",
     "text": [
      "news already in file\n"
     ]
    },
    {
     "name": "stdout",
     "output_type": "stream",
     "text": [
      "news already in file\n"
     ]
    },
    {
     "name": "stdout",
     "output_type": "stream",
     "text": [
      "news already in file\n"
     ]
    },
    {
     "name": "stdout",
     "output_type": "stream",
     "text": [
      "news already in file\n"
     ]
    },
    {
     "name": "stdout",
     "output_type": "stream",
     "text": [
      "news entry added\n"
     ]
    },
    {
     "name": "stdout",
     "output_type": "stream",
     "text": [
      "news already in file\n"
     ]
    },
    {
     "name": "stdout",
     "output_type": "stream",
     "text": [
      "news already in file\n"
     ]
    },
    {
     "name": "stdout",
     "output_type": "stream",
     "text": [
      "news already in file\n"
     ]
    },
    {
     "name": "stdout",
     "output_type": "stream",
     "text": [
      "news entry added\n"
     ]
    },
    {
     "name": "stdout",
     "output_type": "stream",
     "text": [
      "news already in file\n"
     ]
    },
    {
     "name": "stdout",
     "output_type": "stream",
     "text": [
      "news entry added\n"
     ]
    },
    {
     "name": "stdout",
     "output_type": "stream",
     "text": [
      "news already in file\n"
     ]
    },
    {
     "name": "stdout",
     "output_type": "stream",
     "text": [
      "news already in file\n"
     ]
    },
    {
     "name": "stdout",
     "output_type": "stream",
     "text": [
      "news already in file\n"
     ]
    },
    {
     "name": "stdout",
     "output_type": "stream",
     "text": [
      "news already in file\n"
     ]
    },
    {
     "name": "stdout",
     "output_type": "stream",
     "text": [
      "news entry added\n"
     ]
    },
    {
     "name": "stdout",
     "output_type": "stream",
     "text": [
      "news entry added\n"
     ]
    },
    {
     "name": "stdout",
     "output_type": "stream",
     "text": [
      "news entry added\n"
     ]
    },
    {
     "name": "stdout",
     "output_type": "stream",
     "text": [
      "news entry added\n"
     ]
    },
    {
     "name": "stdout",
     "output_type": "stream",
     "text": [
      "news entry added\n"
     ]
    },
    {
     "name": "stdout",
     "output_type": "stream",
     "text": [
      "news entry added\n"
     ]
    },
    {
     "name": "stdout",
     "output_type": "stream",
     "text": [
      "news entry added\n"
     ]
    },
    {
     "name": "stdout",
     "output_type": "stream",
     "text": [
      "news entry added\n"
     ]
    },
    {
     "name": "stdout",
     "output_type": "stream",
     "text": [
      "news entry added\n"
     ]
    },
    {
     "name": "stdout",
     "output_type": "stream",
     "text": [
      "news entry added\n"
     ]
    },
    {
     "name": "stdout",
     "output_type": "stream",
     "text": [
      "news entry added\n"
     ]
    },
    {
     "name": "stdout",
     "output_type": "stream",
     "text": [
      "news entry added\n"
     ]
    },
    {
     "name": "stdout",
     "output_type": "stream",
     "text": [
      "news entry added\n"
     ]
    },
    {
     "name": "stdout",
     "output_type": "stream",
     "text": [
      "news already in file\n"
     ]
    },
    {
     "name": "stdout",
     "output_type": "stream",
     "text": [
      "news entry added\n"
     ]
    },
    {
     "name": "stdout",
     "output_type": "stream",
     "text": [
      "news entry added\n"
     ]
    },
    {
     "name": "stdout",
     "output_type": "stream",
     "text": [
      "news entry added\n"
     ]
    },
    {
     "name": "stdout",
     "output_type": "stream",
     "text": [
      "news entry added\n"
     ]
    },
    {
     "name": "stdout",
     "output_type": "stream",
     "text": [
      "news already in file\n"
     ]
    },
    {
     "name": "stdout",
     "output_type": "stream",
     "text": [
      "news entry added\n"
     ]
    },
    {
     "name": "stdout",
     "output_type": "stream",
     "text": [
      "news entry added\n"
     ]
    },
    {
     "name": "stdout",
     "output_type": "stream",
     "text": [
      "news already in file\n"
     ]
    },
    {
     "name": "stdout",
     "output_type": "stream",
     "text": [
      "news entry added\n"
     ]
    },
    {
     "name": "stdout",
     "output_type": "stream",
     "text": [
      "news already in file\n"
     ]
    },
    {
     "name": "stdout",
     "output_type": "stream",
     "text": [
      "news entry added\n"
     ]
    },
    {
     "name": "stdout",
     "output_type": "stream",
     "text": [
      "news already in file\n"
     ]
    },
    {
     "name": "stdout",
     "output_type": "stream",
     "text": [
      "news entry added\n"
     ]
    },
    {
     "name": "stdout",
     "output_type": "stream",
     "text": [
      "news already in file\n"
     ]
    },
    {
     "name": "stdout",
     "output_type": "stream",
     "text": [
      "news entry added\n"
     ]
    },
    {
     "name": "stdout",
     "output_type": "stream",
     "text": [
      "news already in file\n"
     ]
    },
    {
     "name": "stdout",
     "output_type": "stream",
     "text": [
      "news entry added\n"
     ]
    },
    {
     "name": "stdout",
     "output_type": "stream",
     "text": [
      "news entry added\n"
     ]
    },
    {
     "name": "stdout",
     "output_type": "stream",
     "text": [
      "news entry added\n"
     ]
    },
    {
     "name": "stdout",
     "output_type": "stream",
     "text": [
      "news entry added\n"
     ]
    },
    {
     "name": "stdout",
     "output_type": "stream",
     "text": [
      "news entry added\n"
     ]
    },
    {
     "name": "stdout",
     "output_type": "stream",
     "text": [
      "news already in file\n"
     ]
    },
    {
     "name": "stdout",
     "output_type": "stream",
     "text": [
      "news entry added\n"
     ]
    },
    {
     "name": "stdout",
     "output_type": "stream",
     "text": [
      "news entry added\n"
     ]
    },
    {
     "name": "stdout",
     "output_type": "stream",
     "text": [
      "news entry added\n"
     ]
    },
    {
     "name": "stdout",
     "output_type": "stream",
     "text": [
      "news entry added\n"
     ]
    },
    {
     "name": "stdout",
     "output_type": "stream",
     "text": [
      "news entry added\n"
     ]
    },
    {
     "name": "stdout",
     "output_type": "stream",
     "text": [
      "news entry added\n"
     ]
    },
    {
     "name": "stdout",
     "output_type": "stream",
     "text": [
      "news entry added\n"
     ]
    },
    {
     "name": "stdout",
     "output_type": "stream",
     "text": [
      "news entry added\n"
     ]
    },
    {
     "name": "stdout",
     "output_type": "stream",
     "text": [
      "news entry added\n"
     ]
    },
    {
     "name": "stdout",
     "output_type": "stream",
     "text": [
      "news entry added\n"
     ]
    },
    {
     "name": "stdout",
     "output_type": "stream",
     "text": [
      "news entry added\n"
     ]
    },
    {
     "name": "stdout",
     "output_type": "stream",
     "text": [
      "news entry added\n"
     ]
    },
    {
     "name": "stdout",
     "output_type": "stream",
     "text": [
      "news entry added\n"
     ]
    },
    {
     "name": "stdout",
     "output_type": "stream",
     "text": [
      "news entry added\n"
     ]
    },
    {
     "name": "stdout",
     "output_type": "stream",
     "text": [
      "news entry added\n"
     ]
    },
    {
     "name": "stdout",
     "output_type": "stream",
     "text": [
      "news entry added\n"
     ]
    },
    {
     "name": "stdout",
     "output_type": "stream",
     "text": [
      "news entry added\n"
     ]
    },
    {
     "name": "stdout",
     "output_type": "stream",
     "text": [
      "news entry added\n"
     ]
    },
    {
     "name": "stdout",
     "output_type": "stream",
     "text": [
      "news entry added\n"
     ]
    },
    {
     "name": "stdout",
     "output_type": "stream",
     "text": [
      "news entry added\n"
     ]
    },
    {
     "name": "stdout",
     "output_type": "stream",
     "text": [
      "news entry added\n"
     ]
    },
    {
     "name": "stdout",
     "output_type": "stream",
     "text": [
      "news entry added\n"
     ]
    },
    {
     "name": "stdout",
     "output_type": "stream",
     "text": [
      "news entry added\n"
     ]
    },
    {
     "name": "stdout",
     "output_type": "stream",
     "text": [
      "news entry added\n"
     ]
    },
    {
     "name": "stdout",
     "output_type": "stream",
     "text": [
      "news entry added\n"
     ]
    },
    {
     "name": "stdout",
     "output_type": "stream",
     "text": [
      "news entry added\n"
     ]
    },
    {
     "name": "stdout",
     "output_type": "stream",
     "text": [
      "news entry added\n"
     ]
    },
    {
     "name": "stdout",
     "output_type": "stream",
     "text": [
      "news entry added\n"
     ]
    },
    {
     "name": "stdout",
     "output_type": "stream",
     "text": [
      "news entry added\n"
     ]
    },
    {
     "name": "stdout",
     "output_type": "stream",
     "text": [
      "news entry added\n"
     ]
    },
    {
     "name": "stdout",
     "output_type": "stream",
     "text": [
      "news entry added\n"
     ]
    },
    {
     "name": "stdout",
     "output_type": "stream",
     "text": [
      "news already in file\n"
     ]
    },
    {
     "name": "stdout",
     "output_type": "stream",
     "text": [
      "news entry added\n"
     ]
    },
    {
     "name": "stdout",
     "output_type": "stream",
     "text": [
      "news entry added\n"
     ]
    },
    {
     "name": "stdout",
     "output_type": "stream",
     "text": [
      "news entry added\n"
     ]
    },
    {
     "name": "stdout",
     "output_type": "stream",
     "text": [
      "news entry added\n"
     ]
    },
    {
     "name": "stdout",
     "output_type": "stream",
     "text": [
      "news entry added\n"
     ]
    },
    {
     "name": "stdout",
     "output_type": "stream",
     "text": [
      "news entry added\n"
     ]
    },
    {
     "name": "stdout",
     "output_type": "stream",
     "text": [
      "news entry added\n"
     ]
    },
    {
     "name": "stdout",
     "output_type": "stream",
     "text": [
      "news entry added\n"
     ]
    },
    {
     "name": "stdout",
     "output_type": "stream",
     "text": [
      "news already in file\n"
     ]
    },
    {
     "name": "stdout",
     "output_type": "stream",
     "text": [
      "news entry added\n"
     ]
    },
    {
     "name": "stdout",
     "output_type": "stream",
     "text": [
      "news already in file\n"
     ]
    },
    {
     "name": "stdout",
     "output_type": "stream",
     "text": [
      "news already in file\n"
     ]
    },
    {
     "name": "stdout",
     "output_type": "stream",
     "text": [
      "news entry added\n"
     ]
    },
    {
     "name": "stdout",
     "output_type": "stream",
     "text": [
      "news entry added\n"
     ]
    },
    {
     "name": "stdout",
     "output_type": "stream",
     "text": [
      "news already in file\n"
     ]
    },
    {
     "name": "stdout",
     "output_type": "stream",
     "text": [
      "news entry added\n"
     ]
    },
    {
     "name": "stdout",
     "output_type": "stream",
     "text": [
      "news entry added\n"
     ]
    },
    {
     "name": "stdout",
     "output_type": "stream",
     "text": [
      "news entry added\n"
     ]
    },
    {
     "name": "stdout",
     "output_type": "stream",
     "text": [
      "news entry added\n"
     ]
    },
    {
     "name": "stdout",
     "output_type": "stream",
     "text": [
      "news entry added\n"
     ]
    },
    {
     "name": "stdout",
     "output_type": "stream",
     "text": [
      "news entry added\n"
     ]
    },
    {
     "name": "stdout",
     "output_type": "stream",
     "text": [
      "news entry added\n"
     ]
    },
    {
     "name": "stdout",
     "output_type": "stream",
     "text": [
      "news entry added\n"
     ]
    },
    {
     "name": "stdout",
     "output_type": "stream",
     "text": [
      "news entry added\n"
     ]
    },
    {
     "name": "stdout",
     "output_type": "stream",
     "text": [
      "news entry added\n"
     ]
    },
    {
     "name": "stdout",
     "output_type": "stream",
     "text": [
      "news entry added\n"
     ]
    },
    {
     "name": "stdout",
     "output_type": "stream",
     "text": [
      "news entry added\n"
     ]
    },
    {
     "name": "stdout",
     "output_type": "stream",
     "text": [
      "news entry added\n"
     ]
    },
    {
     "name": "stdout",
     "output_type": "stream",
     "text": [
      "news entry added\n"
     ]
    },
    {
     "name": "stdout",
     "output_type": "stream",
     "text": [
      "news entry added\n"
     ]
    },
    {
     "name": "stdout",
     "output_type": "stream",
     "text": [
      "news entry added\n"
     ]
    },
    {
     "name": "stdout",
     "output_type": "stream",
     "text": [
      "news entry added\n"
     ]
    },
    {
     "name": "stdout",
     "output_type": "stream",
     "text": [
      "news entry added\n"
     ]
    },
    {
     "name": "stdout",
     "output_type": "stream",
     "text": [
      "news entry added\n"
     ]
    },
    {
     "name": "stdout",
     "output_type": "stream",
     "text": [
      "news entry added\n"
     ]
    },
    {
     "name": "stdout",
     "output_type": "stream",
     "text": [
      "news entry added\n"
     ]
    },
    {
     "name": "stdout",
     "output_type": "stream",
     "text": [
      "news entry added\n"
     ]
    },
    {
     "name": "stdout",
     "output_type": "stream",
     "text": [
      "news entry added\n"
     ]
    },
    {
     "name": "stdout",
     "output_type": "stream",
     "text": [
      "news entry added\n"
     ]
    },
    {
     "name": "stdout",
     "output_type": "stream",
     "text": [
      "news entry added\n"
     ]
    },
    {
     "name": "stdout",
     "output_type": "stream",
     "text": [
      "news entry added\n"
     ]
    },
    {
     "name": "stdout",
     "output_type": "stream",
     "text": [
      "news already in file\n"
     ]
    },
    {
     "name": "stdout",
     "output_type": "stream",
     "text": [
      "news entry added\n"
     ]
    },
    {
     "name": "stdout",
     "output_type": "stream",
     "text": [
      "news already in file\n"
     ]
    },
    {
     "name": "stdout",
     "output_type": "stream",
     "text": [
      "news entry added\n"
     ]
    },
    {
     "name": "stdout",
     "output_type": "stream",
     "text": [
      "news already in file\n"
     ]
    },
    {
     "name": "stdout",
     "output_type": "stream",
     "text": [
      "news entry added\n"
     ]
    },
    {
     "name": "stdout",
     "output_type": "stream",
     "text": [
      "news already in file\n"
     ]
    },
    {
     "name": "stdout",
     "output_type": "stream",
     "text": [
      "news already in file\nnews already in file\n"
     ]
    },
    {
     "name": "stdout",
     "output_type": "stream",
     "text": [
      "news entry added\n"
     ]
    },
    {
     "name": "stdout",
     "output_type": "stream",
     "text": [
      "news already in file\n"
     ]
    },
    {
     "name": "stdout",
     "output_type": "stream",
     "text": [
      "news entry added\n"
     ]
    },
    {
     "name": "stdout",
     "output_type": "stream",
     "text": [
      "news entry added\n"
     ]
    },
    {
     "name": "stdout",
     "output_type": "stream",
     "text": [
      "news entry added\n"
     ]
    },
    {
     "name": "stdout",
     "output_type": "stream",
     "text": [
      "news entry added\n"
     ]
    },
    {
     "name": "stdout",
     "output_type": "stream",
     "text": [
      "news already in file\n"
     ]
    },
    {
     "name": "stdout",
     "output_type": "stream",
     "text": [
      "news already in file\n"
     ]
    },
    {
     "name": "stdout",
     "output_type": "stream",
     "text": [
      "news entry added\n"
     ]
    },
    {
     "name": "stdout",
     "output_type": "stream",
     "text": [
      "news entry added\n"
     ]
    },
    {
     "name": "stdout",
     "output_type": "stream",
     "text": [
      "news already in file\n"
     ]
    },
    {
     "name": "stdout",
     "output_type": "stream",
     "text": [
      "news entry added\n"
     ]
    },
    {
     "name": "stdout",
     "output_type": "stream",
     "text": [
      "news entry added\n"
     ]
    },
    {
     "name": "stdout",
     "output_type": "stream",
     "text": [
      "news entry added\n"
     ]
    },
    {
     "name": "stdout",
     "output_type": "stream",
     "text": [
      "news already in file\n"
     ]
    },
    {
     "name": "stdout",
     "output_type": "stream",
     "text": [
      "news already in file\n"
     ]
    },
    {
     "name": "stdout",
     "output_type": "stream",
     "text": [
      "news already in file\nnews already in file\n"
     ]
    },
    {
     "name": "stdout",
     "output_type": "stream",
     "text": [
      "news already in file\n"
     ]
    },
    {
     "name": "stdout",
     "output_type": "stream",
     "text": [
      "news already in file\n"
     ]
    },
    {
     "name": "stdout",
     "output_type": "stream",
     "text": [
      "news already in file\n"
     ]
    },
    {
     "name": "stdout",
     "output_type": "stream",
     "text": [
      "news already in file\n"
     ]
    },
    {
     "name": "stdout",
     "output_type": "stream",
     "text": [
      "news already in file\n"
     ]
    },
    {
     "name": "stdout",
     "output_type": "stream",
     "text": [
      "news already in file\n"
     ]
    },
    {
     "name": "stdout",
     "output_type": "stream",
     "text": [
      "news already in file\n"
     ]
    },
    {
     "name": "stdout",
     "output_type": "stream",
     "text": [
      "news already in file\n"
     ]
    },
    {
     "name": "stdout",
     "output_type": "stream",
     "text": [
      "news already in file\n"
     ]
    },
    {
     "name": "stdout",
     "output_type": "stream",
     "text": [
      "news already in file\nnews already in file\n"
     ]
    },
    {
     "name": "stdout",
     "output_type": "stream",
     "text": [
      "news already in file\n"
     ]
    },
    {
     "name": "stdout",
     "output_type": "stream",
     "text": [
      "news already in file\n"
     ]
    },
    {
     "name": "stdout",
     "output_type": "stream",
     "text": [
      "news already in file\n"
     ]
    }
   ],
   "source": [
    "import news_content_snatch as snatcher\n",
    "\n",
    "\n",
    "snatcher.scrape(mode='full', silent=False)"
   ]
  },
  {
   "cell_type": "code",
   "execution_count": null,
   "metadata": {},
   "outputs": [],
   "source": [
    ""
   ]
  }
 ],
 "metadata": {
  "kernelspec": {
   "display_name": "Python 2",
   "language": "python",
   "name": "python2"
  },
  "language_info": {
   "codemirror_mode": {
    "name": "ipython",
    "version": 2.0
   },
   "file_extension": ".py",
   "mimetype": "text/x-python",
   "name": "python",
   "nbconvert_exporter": "python",
   "pygments_lexer": "ipython2",
   "version": "2.7.6"
  }
 },
 "nbformat": 4,
 "nbformat_minor": 0
}