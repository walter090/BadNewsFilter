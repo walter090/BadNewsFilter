{
 "cells": [
  {
   "cell_type": "code",
   "execution_count": 4,
   "metadata": {
    "collapsed": true
   },
   "outputs": [],
   "source": [
    "import news_content_snatch as snatcher\n",
    "\n",
    "\n",
    "snatcher.scrape(mode='full')"
   ]
  },
  {
   "cell_type": "code",
   "execution_count": 8,
   "metadata": {},
   "outputs": [],
   "source": [
    "from nltk.tokenize import RegexpTokenizer, PunktSentenceTokenizer\n",
    "import nltk.data\n",
    "import os\n",
    "\n",
    "\n",
    "news_path = 'news/'\n",
    "all_news = os.listdir(news_path)\n",
    "tokenizer = RegexpTokenizer(r'\\w+')\n",
    "sentence_tokenizer = PunktSentenceTokenizer()\n",
    "\n",
    "news_articles = []\n",
    "for article in all_news:\n",
    "    with open(os.path.join(news_path, article)) as file:\n",
    "        news_articles.append(file.read())"
   ]
  },
  {
   "cell_type": "code",
   "execution_count": 9,
   "metadata": {},
   "outputs": [
    {
     "data": {
      "text/plain": [
       "\"Two Powys councillors have been suspended following 2015 prosecutions relating to cattle identification.Gwynfor Thomas, who was chairman of the council's scrutiny committee at the time but later resigned, began a four-week suspension on Wednesday.Aled Davies, leader of the council's Conservative group, began a two-week suspension on 11 April.A third councillor, Gary Price, has appealed a five-month suspension and it was recommended it be reduced to three.This amendment would need to be approved by the council's standards committee after May's local elections.Powys council has arranged for neighbouring councillors to cover for Mr Thomas, who represents Llansanffraid, and Mr Davies, who represents Llanrhaeadr-ym-Mochnant and Llansilin, during the suspension period.It follows prosecutions by Powys' trading standards under different sections of the Cattle Identification (Wales) Regulations 2007 and Animal By-Products (Enforcement) (Wales) Regulations, over charges relating to the tagging of cattle on farms, and found guilty.The suspensions relate to code of conduct breaches, bringing the council into disrepute, as a result of the prosecutions. \""
      ]
     },
     "execution_count": 9,
     "metadata": {},
     "output_type": "execute_result"
    }
   ],
   "source": [
    ""
   ]
  },
  {
   "cell_type": "code",
   "execution_count": null,
   "metadata": {},
   "outputs": [],
   "source": [
    ""
   ]
  }
 ],
 "metadata": {
  "kernelspec": {
   "display_name": "Python 2",
   "language": "python",
   "name": "python2"
  },
  "language_info": {
   "codemirror_mode": {
    "name": "ipython",
    "version": 2.0
   },
   "file_extension": ".py",
   "mimetype": "text/x-python",
   "name": "python",
   "nbconvert_exporter": "python",
   "pygments_lexer": "ipython2",
   "version": "2.7.6"
  }
 },
 "nbformat": 4,
 "nbformat_minor": 0
}