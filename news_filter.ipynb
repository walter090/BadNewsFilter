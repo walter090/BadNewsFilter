{
 "cells": [
  {
   "cell_type": "code",
   "execution_count": 2,
   "metadata": {
    "collapsed": true
   },
   "outputs": [],
   "source": [
    ""
   ]
  },
  {
   "cell_type": "code",
   "execution_count": 31,
   "metadata": {},
   "outputs": [],
   "source": [
    "from nltk.tokenize import RegexpTokenizer, sent_tokenize\n",
    "import os\n",
    "\n",
    "news_path = 'news/'\n",
    "all_news = os.listdir(news_path)\n",
    "tokenizer = RegexpTokenizer(r'\\w+')\n",
    "\n",
    "news_articles = []\n",
    "for article in all_news:\n",
    "    with open(os.path.join(news_path, article)) as reader:\n",
    "        news_articles.append(reader.read().decode('utf8'))"
   ]
  },
  {
   "cell_type": "code",
   "execution_count": 32,
   "metadata": {},
   "outputs": [],
   "source": [
    "articles_sentences = [sent_tokenize(article) for article in news_articles]\n",
    "sentences = []\n",
    "for article in articles_sentences:\n",
    "    sentences += [tokenizer.tokenize(sentence.lower()) for sentence in article]"
   ]
  },
  {
   "cell_type": "code",
   "execution_count": 33,
   "metadata": {},
   "outputs": [],
   "source": [
    "from gensim.models import word2vec\n",
    "\n",
    "model = word2vec.Word2Vec(\n",
    "    sentences,\n",
    "    workers=8,\n",
    "    size=300,\n",
    "    min_count=15,\n",
    "    window=10,\n",
    "    sample=10e-3\n",
    ")"
   ]
  },
  {
   "cell_type": "code",
   "execution_count": 35,
   "metadata": {},
   "outputs": [
    {
     "name": "stdout",
     "output_type": "stream",
     "text": [
      "[(u'december', 0.9466185569763184),\n (u'raised', 0.9456180930137634),\n (u'glasgow', 0.9430662393569946),\n (u'2006', 0.9339008927345276),\n (u'14', 0.9321721792221069),\n (u'2011', 0.9317983984947205),\n (u'august', 0.926139235496521),\n (u'1999', 0.9258310794830322),\n (u'originally', 0.9241436123847961),\n (u'16', 0.9238189458847046)]\n"
     ]
    }
   ],
   "source": [
    "import pprint\n",
    "\n",
    "try:\n",
    "    pprint.pprint(model.most_similar('september'))\n",
    "except KeyError as ke:\n",
    "    print ke"
   ]
  },
  {
   "cell_type": "code",
   "execution_count": null,
   "metadata": {},
   "outputs": [],
   "source": [
    ""
   ]
  }
 ],
 "metadata": {
  "kernelspec": {
   "display_name": "Python 2",
   "language": "python",
   "name": "python2"
  },
  "language_info": {
   "codemirror_mode": {
    "name": "ipython",
    "version": 2.0
   },
   "file_extension": ".py",
   "mimetype": "text/x-python",
   "name": "python",
   "nbconvert_exporter": "python",
   "pygments_lexer": "ipython2",
   "version": "2.7.6"
  }
 },
 "nbformat": 4,
 "nbformat_minor": 0
}