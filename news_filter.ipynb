{
 "cells": [
  {
   "cell_type": "code",
   "execution_count": 1,
   "metadata": {
    "collapsed": true
   },
   "outputs": [
    {
     "data": {
      "text/plain": [
       "{'/news': [],\n '/news/business': ['/news/business-38507481',\n  '/news/business/companies',\n  '/news/business-22434141',\n  '/news/business-11428889',\n  '/news/business/business_of_sport',\n  '/news/business-12686570',\n  '/news/business/economy'],\n '/news/science_and_environment': [],\n '/news/technology': [],\n '/news/uk': ['/news/england',\n  '/news/northern_ireland',\n  '/news/scotland',\n  '/news/wales',\n  '/news/politics'],\n '/news/world': ['/news/world/africa',\n  '/news/world/asia',\n  '/news/world/australia',\n  '/news/world/europe',\n  '/news/world/latin_america',\n  '/news/world/middle_east'],\n '/news/world/us_and_canada': []}"
      ]
     },
     "execution_count": 1,
     "metadata": {},
     "output_type": "execute_result"
    }
   ],
   "source": [
    "import news_content_snatch as snatcher\n",
    "\n",
    "\n",
    "snatcher.get_nav_links()"
   ]
  },
  {
   "cell_type": "code",
   "execution_count": null,
   "metadata": {},
   "outputs": [],
   "source": [
    ""
   ]
  }
 ],
 "metadata": {
  "kernelspec": {
   "display_name": "Python 2",
   "language": "python",
   "name": "python2"
  },
  "language_info": {
   "codemirror_mode": {
    "name": "ipython",
    "version": 2.0
   },
   "file_extension": ".py",
   "mimetype": "text/x-python",
   "name": "python",
   "nbconvert_exporter": "python",
   "pygments_lexer": "ipython2",
   "version": "2.7.6"
  }
 },
 "nbformat": 4,
 "nbformat_minor": 0
}